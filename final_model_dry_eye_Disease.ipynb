{
 "cells": [
  {
   "cell_type": "markdown",
   "id": "937165df-2093-4833-989c-cddc4a77f2ba",
   "metadata": {},
   "source": [
    "<p style=\"color:rgb(0, 0, 255); line-height: 1.6;\"><b>This dataset is related to Dry Eye disease analysis. The goal is to predict or analyze factors influencing Dry Eye conditions for a given population . The dataset includes patient-related features, test results, or environmental factors contributing to Dry Eye disease.</b></p>"
   ]
  },
  {
   "cell_type": "markdown",
   "id": "8e5f865d-00e2-4a86-87ae-6831573a94d7",
   "metadata": {},
   "source": [
    "<p>\n",
    "<b>Gender</b> – Categorical (e.g., Male, Female)\n",
    "\n",
    "<b>Age</b> – Numeric (Integer)\n",
    "\n",
    "<b>Sleep duration</b> – Numeric (Float, likely in hours)\n",
    "\n",
    "<b>Sleep quality</b> – Numeric (Integer scale, e.g., 1–10)\n",
    "\n",
    "<b>Stress level</b> – Numeric (Integer scale)\n",
    "\n",
    "<b>Blood pressure</b> – Categorical (e.g., \"120/80\")\n",
    "\n",
    "<b>Heart rate</b> – Numeric (Integer, beats per minute)\n",
    "\n",
    "<b>Daily steps</b> – Numeric (Integer)\n",
    "\n",
    "<b>Physical activity</b> – Numeric (Integer, possibly minutes/day or activity level)\n",
    "\n",
    "<b>Height</b> – Numeric (Integer, likely in cm)\n",
    "\n",
    "<b>Weight</b> – Numeric (Integer, likely in kg)\n",
    "\n",
    "<b>Sleep disorder</b> – Categorical (e.g., Yes/No or disorder types)\n",
    "\n",
    "<b>Wake up during night</b> – Categorical (Yes/No)\n",
    "\n",
    "<b>Feel sleepy during day</b> – Categorical (Yes/No)\n",
    "\n",
    "<b>Caffeine consumption</b> – Categorical (e.g., Yes/No or levels)\n",
    "\n",
    "<b>Alcohol consumption</b> – Categorical\n",
    "\n",
    "<b>Smoking – Categorical</b>\n",
    "\n",
    "<b>Medical issue</b> – Categorical (e.g., Yes/No)\n",
    "\n",
    "<b>Ongoing medication</b> – Categorical\n",
    "\n",
    "<b>Smart device before bed</b> – Categorical (e.g., Yes/No)\n",
    "\n",
    "<b>Average screen time</b> – Numeric (Float, likely in hours/day)\n",
    "\n",
    "<b>Blue-light filter</b> – Categorical (Yes/No)\n",
    "\n",
    "<b>Discomfort Eye-strain</b> – Categorical (Yes/No)\n",
    "\n",
    "<b>Redness in eye</b> – Categorical\n",
    "\n",
    "<b>Itchiness/Irritation in eye</b> – Categorical\n",
    "\n",
    "<b>Dry Eye Disease</b> – Categorical (Target variable: Yes/No or diagnosis)\n",
    "</p>"
   ]
  },
  {
   "cell_type": "code",
   "execution_count": null,
   "id": "85e006ad-7caa-4ac0-9fb1-9d1892b09663",
   "metadata": {},
   "outputs": [],
   "source": [
    "import numpy as np\n",
    "import pandas as pd\n",
    "import matplotlib.pyplot as plt\n",
    "import seaborn as sns\n",
    "import statsmodels.api as sm\n",
    "from sklearn.metrics import accuracy_score,recall_score,f1_score,precision_score,roc_auc_score,classification_report,roc_curve,confusion_matrix, ConfusionMatrixDisplay\n",
    "from sklearn.metrics import precision_recall_curve, average_precision_score\n",
    "from sklearn.tree import DecisionTreeClassifier\n",
    "from sklearn.ensemble import GradientBoostingClassifier,AdaBoostClassifier\n",
    "from xgboost import XGBClassifier\n",
    "from lightgbm import LGBMClassifier\n",
    "from sklearn.neighbors import KNeighborsClassifier\n",
    "from sklearn.svm import SVC\n",
    "from sklearn.feature_selection import RFE\n",
    "import warnings\n",
    "warnings.filterwarnings('ignore')"
   ]
  },
  {
   "cell_type": "code",
   "execution_count": null,
   "id": "6214846d-79ab-4d67-b914-a1f479cbfa21",
   "metadata": {},
   "outputs": [],
   "source": [
    "pd.set_option('display.max_columns', None)"
   ]
  },
  {
   "cell_type": "code",
   "execution_count": null,
   "id": "b56065cc-3ae5-4c61-bf22-5763b35ef3e7",
   "metadata": {},
   "outputs": [],
   "source": [
    "df=pd.read_csv('Dry_Eye_Dataset.csv')"
   ]
  },
  {
   "cell_type": "code",
   "execution_count": null,
   "id": "469e0745-6eab-4cd4-90ed-6d249ceaa540",
   "metadata": {},
   "outputs": [],
   "source": [
    "df.head()"
   ]
  },
  {
   "cell_type": "code",
   "execution_count": null,
   "id": "d9fb4f7d-cb2a-4386-abe7-6def7a007a86",
   "metadata": {},
   "outputs": [],
   "source": [
    "df.info()"
   ]
  },
  {
   "cell_type": "markdown",
   "id": "444b6e4a-a11d-41e8-9e5e-1e022ae9dce3",
   "metadata": {},
   "source": [
    "# Checking for duplicate values"
   ]
  },
  {
   "cell_type": "code",
   "execution_count": null,
   "id": "b43709bf-7431-4e58-b5ff-250b77c5090e",
   "metadata": {},
   "outputs": [],
   "source": [
    "df.duplicated().sum()"
   ]
  },
  {
   "cell_type": "markdown",
   "id": "1a06a4f3-5695-43e9-b4dc-99c2992b3fa7",
   "metadata": {},
   "source": [
    "<p style=\"color:rgb(0, 0, 255);>No missing values found</p> "
   ]
  },
  {
   "cell_type": "markdown",
   "id": "ee0bd242-eca3-4f0a-a8ac-35d64c92e51a",
   "metadata": {},
   "source": [
    "# Checking for missing values"
   ]
  },
  {
   "cell_type": "code",
   "execution_count": null,
   "id": "2318ac37-aa8a-44bc-b324-dc743e77b2e2",
   "metadata": {},
   "outputs": [],
   "source": [
    "# Missing Values\n",
    "missing_values = df.isnull().sum()\n",
    "missing_percentage = (missing_values / len(df)) * 100\n",
    "print(\"\\nMissing Value Percentage:\")\n",
    "print(missing_percentage)"
   ]
  },
  {
   "cell_type": "markdown",
   "id": "7f513b5c-6ddf-426f-8cad-7799382a42f0",
   "metadata": {},
   "source": [
    "# Statistical Summary"
   ]
  },
  {
   "cell_type": "code",
   "execution_count": null,
   "id": "63bf25ac-b914-4d41-b643-bde5ada02b55",
   "metadata": {},
   "outputs": [],
   "source": [
    "df.describe()"
   ]
  },
  {
   "cell_type": "markdown",
   "id": "d73ebab4-c604-4556-9392-f24446f7550d",
   "metadata": {},
   "source": [
    " <p>\n",
    "     1.<b>Age:</b>This is a relatively young to middle-aged population.The narrow age range may affect generalizability to older adults or children.</p>\n",
    " <p>2.<b>Sleep duration:</b>On average, participants meet recommended sleep duration (7–9 hrs). However, a significant portion sleeps below that threshold  (min = 4),which may affect health and screen-time related disorders.</p>\n",
    " <p>3.<b>Sleep quality:</b>Normal distribution centered at moderate sleep quality. There’s noticeable variance, suggesting some individuals experience poor sleep regularly.</p>\n",
    "<p> 4.<b>Stress level:</b>stress levels average around medium, with enough spread to detect differences among individuals. This could be a critical feature  when analyzing lifestyle-related conditions.</p>\n",
    "<p> 5.<b>Heart rate:</b>All within normal resting heart rate range.</p>\n",
    "<p> 6.<b>Daily steps:</b>Quite active on average — the general guideline is 10,000 steps/day. High variance suggests significant lifestyle differences  (sedentary vs. active users).</p>\n",
    "<p> 7.<b>Physical activity:</b>On average, people meet the recommended 30 mins/day. But some are completely inactive (0 minutes) — a possible risk factor  for lifestyle diseases.</p>\n",
    "<p> 8.<b>Height:</b>Represents a fairly typical adult height distribution.</p>\n",
    "<p> 9:<b>Weight:</b>Standard weight range for adults. </p>\n",
    "<p> 10.<b>Average Screen Time:</b>High screen time on average — this may correlate strongly with eye strain, dry eye disease (DED), and sleep quality  issues. A key feature</p>\n"
   ]
  },
  {
   "cell_type": "markdown",
   "id": "cba05083-31e7-423d-aa6b-3a21f9033038",
   "metadata": {},
   "source": [
    "# Checking for anomalies"
   ]
  },
  {
   "cell_type": "code",
   "execution_count": null,
   "id": "c27d3efe-edd0-42ee-a60e-e7779c90fb09",
   "metadata": {},
   "outputs": [],
   "source": [
    "for i in df.select_dtypes(include='object').columns:\n",
    "    print(f'{i}\\n',df[i].unique())"
   ]
  },
  {
   "cell_type": "markdown",
   "id": "ea455d60-24a8-407d-9aa1-c7ee583401bb",
   "metadata": {},
   "source": [
    "<b>blood pressure columns needs to be split into two columns as it is wrongly taken as categoric</b>"
   ]
  },
  {
   "cell_type": "code",
   "execution_count": null,
   "id": "caa72116-9fd6-4cdb-b854-c725832330d7",
   "metadata": {},
   "outputs": [],
   "source": [
    "# we will Split 'Blood pressure' into 'Systolic' and 'Diastolic'\n",
    "df[['Systolic BP', 'Diastolic BP']] = df['Blood pressure'].str.split('/', expand=True)\n",
    "\n",
    "# Convert the new columns to numeric\n",
    "df['Systolic BP'] = pd.to_numeric(df['Systolic BP'], errors='coerce')\n",
    "df['Diastolic BP'] = pd.to_numeric(df['Diastolic BP'], errors='coerce')\n",
    "\n",
    "# Drop the original 'Blood pressure' column\n",
    "df = df.drop(columns=['Blood pressure'])"
   ]
  },
  {
   "cell_type": "markdown",
   "id": "4f230907-c232-42d4-aefa-9be70fa376c0",
   "metadata": {},
   "source": [
    "# Checking for outliers"
   ]
  },
  {
   "cell_type": "code",
   "execution_count": null,
   "id": "672ec46a-d665-40e2-a7ba-0f663bdbe56d",
   "metadata": {},
   "outputs": [],
   "source": [
    "# checking for outliers\n",
    "numeric=df.select_dtypes(include=np.number).columns\n",
    "plt.figure(figsize=(12,18))\n",
    "t=1\n",
    "for i in numeric:\n",
    "    plt.subplot(6,2,t)\n",
    "    sns.boxplot(df[i])\n",
    "    plt.title(f'Boxplot of {i}')\n",
    "    t+=1\n",
    "plt.tight_layout()\n",
    "plt.show()"
   ]
  },
  {
   "cell_type": "markdown",
   "id": "7b11b6de-0ab3-42a3-a5db-347587bb7ce5",
   "metadata": {},
   "source": [
    "<b>\n",
    "1.No severe outliers in most features.\n",
    "\n",
    "2.Distributions appear fairly normal or slightly skewed in some cases.\n",
    "</b>"
   ]
  },
  {
   "cell_type": "markdown",
   "id": "fb42757f-5cc6-4776-9060-033bb32fba01",
   "metadata": {},
   "source": [
    "# Univariate Analysis"
   ]
  },
  {
   "cell_type": "markdown",
   "id": "0668d992-9983-4f07-85f5-565cf14ad9a5",
   "metadata": {},
   "source": [
    "## numeric columns"
   ]
  },
  {
   "cell_type": "code",
   "execution_count": null,
   "id": "f9b37a78-c90f-4494-bd34-891774c9cba5",
   "metadata": {},
   "outputs": [],
   "source": [
    "numeric=df.select_dtypes(include=np.number).columns\n",
    "plt.figure(figsize=(12,18))\n",
    "t=1\n",
    "for i in numeric:\n",
    "    plt.subplot(7,2,t)\n",
    "    sns.histplot(df[i])\n",
    "    plt.title(f'Distribution of {i}')\n",
    "    plt.xlabel(i)\n",
    "    plt.ylabel('Frequency')\n",
    "    t+=1\n",
    "plt.tight_layout()\n",
    "plt.show()"
   ]
  },
  {
   "cell_type": "markdown",
   "id": "de00ecdb-3414-41c2-b02b-6bb141c23ae8",
   "metadata": {},
   "source": [
    "<p><b>Age:</b>The age distribution appears roughly uniform between 18 and 45, but there's a notable absence of older adults (above 45 years).</p>\n",
    "<p><b>Sleep duration:</b>Sleep Duration is slightly right-skewed — many sleep around 6–8 hours, which is ideal, but a subset sleeps <6 hours.</p>\n",
    "<p><b>Sleep quality:</b>Sleep Quality shows an even spread — indicating variability, and low sleep quality is a known DED risk factor.</p>\n",
    "<p><b>Stress level:</b>Stress Level:Spread across the full 1–5 scale. Some users report high stress.</p>\n",
    "<p><b>Average Screen Time:</b>Nearly uniform, with many individuals having >6 hours/day of screen time.High screen exposure reduces blink rate, a direct trigger for Dry Eye Disease — this is likely a strong predictive feature.</p>\n",
    "<p><b>Heart rate:</b>Uniform, but some individuals are on the higher side (90–100 bpm).</p>"
   ]
  },
  {
   "cell_type": "markdown",
   "id": "3a1c3ed2-ff52-4bc4-a022-7c1d2ca9e79b",
   "metadata": {},
   "source": [
    "### checking skewness of numeric variables"
   ]
  },
  {
   "cell_type": "code",
   "execution_count": null,
   "id": "df93800e-7e0f-4d40-a3fe-b14e5f4a42fd",
   "metadata": {},
   "outputs": [],
   "source": [
    "for i in numeric:\n",
    "    print(f'Skewness of {i} :',df[i].skew())"
   ]
  },
  {
   "cell_type": "markdown",
   "id": "e6afff5b-75ac-4b7e-93eb-376a38d3a32f",
   "metadata": {},
   "source": [
    "## Categoric columns"
   ]
  },
  {
   "cell_type": "code",
   "execution_count": null,
   "id": "cfada7af-e9ea-4eb6-963e-942b922005f8",
   "metadata": {},
   "outputs": [],
   "source": [
    "categoric=df.select_dtypes(include='object').columns\n",
    "for i in categoric:\n",
    "    print(df[i].value_counts(normalize=True)*100)"
   ]
  },
  {
   "cell_type": "code",
   "execution_count": null,
   "id": "eba4ba78-76a5-41e7-9944-dc010e6adba5",
   "metadata": {},
   "outputs": [],
   "source": [
    "\n",
    "\n",
    "plt.figure(figsize=(12, 18))\n",
    "t = 1\n",
    "\n",
    "for i in categoric:\n",
    "    plt.subplot(10, 2, t)\n",
    "    df[i].value_counts(normalize=True).plot(kind='bar')\n",
    "    plt.title(f'Distribution of {i}')\n",
    "    plt.ylabel('')\n",
    "    t += 1\n",
    "\n",
    "plt.tight_layout()\n",
    "plt.show()\n"
   ]
  },
  {
   "cell_type": "markdown",
   "id": "7d0dfe45-f6fa-429e-aa33-0575b432ede6",
   "metadata": {},
   "source": [
    "<p>1. Almost all the features are fairly distributed.</p>\n",
    "<p>2.<b>Dry Eye Disease:Yes: 65.2%, No: 34.8%</b></br>\n",
    "Indicates a mild class imbalance — might influence classification metrics like accuracy.</p>"
   ]
  },
  {
   "cell_type": "markdown",
   "id": "ee14e500-5966-4fc4-8e50-1d75b67581f6",
   "metadata": {},
   "source": [
    "# Bi-variate analysis"
   ]
  },
  {
   "cell_type": "markdown",
   "id": "fb656615-80dd-4a3f-ab1d-330735b5c93c",
   "metadata": {},
   "source": [
    "##### checking numeric features relationship with target"
   ]
  },
  {
   "cell_type": "code",
   "execution_count": null,
   "id": "cf56f2ba-0180-42cc-a73f-80dcd82bea78",
   "metadata": {},
   "outputs": [],
   "source": [
    "plt.figure(figsize=(12, 18))\n",
    "t=1\n",
    "for i in numeric:\n",
    "    plt.subplot(7,2,t)\n",
    "    sns.boxplot(y=df[i], x=df['Dry Eye Disease'])\n",
    "    plt.title(f'{i} vs Dry Eye Disease')\n",
    "    plt.xlabel(i)\n",
    "    plt.ylabel('Frequency')\n",
    "    t+=1\n",
    "plt.tight_layout()\n",
    "plt.show()"
   ]
  },
  {
   "cell_type": "markdown",
   "id": "0ead8251-4070-4286-a52e-93307f53c05f",
   "metadata": {},
   "source": [
    "<p>\n",
    "\n",
    "<b>Age:</b>\n",
    "\n",
    "Slight upward trend in DED frequency with increasing age.Indicates that older individuals are more prone to Dry Eye Disease.\n",
    "\n",
    "<b>Sleep Duration:</b>\n",
    "\n",
    "Moderate fluctuations, but overall, DED frequency seems slightly lower with longer sleep durations.Poor sleep may be linked to increased risk of DED.\n",
    "\n",
    "<b>Heart Rate:</b>\n",
    "\n",
    "No strong pattern observed, though slightly more DED cases are seen at lower and higher extremes, suggesting possible impact of health/stress levels.\n",
    "\n",
    "<b>Daily Steps:</b>\n",
    "\n",
    "Slight downward trend – more physically active individuals (higher steps) seem to have fewer DED cases.Physical activity may help reduce risk.\n",
    "\n",
    "<b>Physical Activity:</b>\n",
    "\n",
    "High variability, but generally lower DED frequency at moderate-to-high activity levels.Reinforces that inactivity might correlate with DED.\n",
    "\n",
    "<b>Height:</b>\n",
    "\n",
    "No consistent relationship with DED observed.Likely not a significant predictor.\n",
    "\n",
    "<b>Weight:</b>\n",
    "\n",
    "Slight upward trend in DED frequency with increasing weight.\n",
    "\n",
    "<b>Average Screen Time:</b>\n",
    "\n",
    "Clear upward trend: more screen time strongly correlates with higher DED frequency.Indicates screen exposure is a major risk factor.\n",
    "\n",
    "<b>Systolic BP:</b>\n",
    "\n",
    "Moderate rise in DED frequency at higher systolic BP.High BP might be indirectly linked to DED via overall health conditions.\n",
    "\n",
    "<b>Diastolic BP:</b>\n",
    "\n",
    "Similar trend to systolic – DED increases with higher diastolic BP.Suggests possible vascular or systemic health impact on eye health.</p>"
   ]
  },
  {
   "cell_type": "markdown",
   "id": "ab7a8970-3ee0-4ef1-8835-a78c3759c14c",
   "metadata": {},
   "source": [
    "#### categoric features relationship with target"
   ]
  },
  {
   "cell_type": "code",
   "execution_count": null,
   "id": "60026399-28aa-4db8-9e8e-748510b7d029",
   "metadata": {},
   "outputs": [],
   "source": [
    "plt.figure(figsize=(12, 24))\n",
    "t = 1\n",
    "\n",
    "for col in categoric:\n",
    "    if col != 'Dry Eye Disease':\n",
    "        ax = plt.subplot(8, 2, t)\n",
    "        pd.crosstab(df[col], df['Dry Eye Disease'], normalize='index').plot(\n",
    "            kind='bar', ax=ax, legend=False)\n",
    "        ax.set_title(f'{col} vs Dry Eye Disease')\n",
    "        ax.set_ylabel('Proportion')\n",
    "        ax.set_xlabel(col)\n",
    "        t += 1\n",
    "\n",
    "plt.tight_layout()\n",
    "plt.legend(['No', 'Yes'], title='Dry Eye Disease', bbox_to_anchor=(1.05, 4), loc='upper left')\n",
    "plt.show()"
   ]
  },
  {
   "cell_type": "markdown",
   "id": "346f38c1-7dd1-4007-8ba4-a7c1d0977c5b",
   "metadata": {},
   "source": [
    "<p><b>\n",
    "Females, individuals with poor sleep quality, high stress, and sleep disorders are more likely to have Dry Eye Disease (DED).\n",
    "\n",
    "Excessive screen time, especially before bed, and symptoms like eye strain, redness, and irritation are strong indicators of DED.\n",
    "\n",
    "Use of blue-light filters and maintaining good sleep hygiene may help reduce the risk of DED.\n",
    "\n",
    "Health factors such as medical issues, ongoing medication, and smoking also show moderate influence on DED presence.</b>\n",
    "</p>"
   ]
  },
  {
   "cell_type": "markdown",
   "id": "ac041dc2-d346-42e5-b661-09b4e35c9d52",
   "metadata": {},
   "source": [
    "# Feature Engineering"
   ]
  },
  {
   "cell_type": "code",
   "execution_count": null,
   "id": "0c54a745-4b5a-45a6-8cec-7c69a8cc6ce5",
   "metadata": {},
   "outputs": [],
   "source": [
    "df['Pulse_Pressure']=df['Systolic BP']-df['Diastolic BP']"
   ]
  },
  {
   "cell_type": "code",
   "execution_count": null,
   "id": "f00179d4-5394-4025-9306-8367613b12e3",
   "metadata": {},
   "outputs": [],
   "source": [
    "sns.boxplot(x=df['Dry Eye Disease'],y=df['Pulse_Pressure'])\n",
    "plt.show()"
   ]
  },
  {
   "cell_type": "markdown",
   "id": "3e4e557a-81d7-406b-b79f-f82d1fcfc279",
   "metadata": {},
   "source": [
    "<b>Pulse Pressure does not show a strong univariate association with Dry Eye Disease.</b>"
   ]
  },
  {
   "cell_type": "code",
   "execution_count": null,
   "id": "5eab1a07-990a-469a-b16b-b2b2713e4bb4",
   "metadata": {},
   "outputs": [],
   "source": [
    "# adding one more feature 'BMI'"
   ]
  },
  {
   "cell_type": "code",
   "execution_count": null,
   "id": "949fe2e2-30f6-46b6-85e5-4c0133af7277",
   "metadata": {},
   "outputs": [],
   "source": [
    "df['BMI']=df['Weight'] / (df['Height']/100)**2"
   ]
  },
  {
   "cell_type": "code",
   "execution_count": null,
   "id": "4a7bde05-5856-4c7d-b9b2-d6edfb254f0a",
   "metadata": {},
   "outputs": [],
   "source": [
    "sns.boxplot(x=df['Dry Eye Disease'],y=df['BMI'])\n",
    "plt.show()"
   ]
  },
  {
   "cell_type": "markdown",
   "id": "6bd2d74f-98a5-4165-aa51-99cf0b669ed0",
   "metadata": {},
   "source": [
    "<p>Median BMI is almost identical for both DED and non-DED groups.</br>\n",
    "Both groups have similar interquartile ranges (IQR), indicating comparable variability.</br>\n",
    "There are slightly more high-end outliers in the DED group, but not significantly different.</p>"
   ]
  },
  {
   "cell_type": "code",
   "execution_count": null,
   "id": "9f2e90c5-f937-4ec7-8459-324eafb64198",
   "metadata": {},
   "outputs": [],
   "source": [
    "# Adding Blood pressure category based on systolic and diastolic metrics using data/facts from American Heart Association"
   ]
  },
  {
   "cell_type": "code",
   "execution_count": null,
   "id": "7e55f418-e914-4d07-b181-6c40185fe223",
   "metadata": {},
   "outputs": [],
   "source": [
    "def classify_bp(row):\n",
    "    systolic = row['Systolic BP']\n",
    "    diastolic = row['Diastolic BP']\n",
    "    \n",
    "    if systolic > 180 or diastolic > 120:\n",
    "        return 'Hypertensive Crisis'\n",
    "    elif systolic >= 140 or diastolic >= 90:\n",
    "        return 'Hypertension Stage 2'\n",
    "    elif systolic >= 130 or diastolic >= 80:\n",
    "        return 'Hypertension Stage 1'\n",
    "    elif systolic >= 120 and diastolic < 80:\n",
    "        return 'Elevated'\n",
    "    else:\n",
    "        return 'Normal'\n",
    "# Create new column\n",
    "df['BP_category'] = df.apply(classify_bp, axis=1)"
   ]
  },
  {
   "cell_type": "code",
   "execution_count": null,
   "id": "a9e1ccb0-05ab-48d8-9d13-08d22c8e41e4",
   "metadata": {},
   "outputs": [],
   "source": [
    "pd.crosstab(df['BP_category'], df['Dry Eye Disease'], normalize='index').plot(kind='bar',legend=False)\n",
    "plt.title('BP_category vs Dry eye disease')"
   ]
  },
  {
   "cell_type": "markdown",
   "id": "5a73ab0b-33c6-4dd5-8366-618a9fc9205d",
   "metadata": {},
   "source": [
    "<p>The proportion of individuals with Dry Eye Disease (DED) appears to be slightly higher in those categorized under:</br>\n",
    "<b>Hypertension Stage 1</b></br>\n",
    "<b>Hypertension Stage 2 </b></p>\n",
    "<p>Even though the differences are not dramatic, the orange bars (indicating DED = \"Yes\") \n",
    "show a small upward trend from <b>Normal and Elevated BP </b>categories</br> to <b>Stage 1 and Stage 2</b>.</p>"
   ]
  },
  {
   "cell_type": "markdown",
   "id": "181235bf-6575-49e2-baf1-4a1eb2235374",
   "metadata": {},
   "source": [
    "## Note"
   ]
  },
  {
   "cell_type": "markdown",
   "id": "1fe80735-2359-47c8-9b2a-a32543c39293",
   "metadata": {},
   "source": [
    "<p>We can't categorize age because we don't have significant data in age column</p>"
   ]
  },
  {
   "cell_type": "code",
   "execution_count": null,
   "id": "bc9ac60c-dafb-45ca-825c-871434cc8f29",
   "metadata": {},
   "outputs": [],
   "source": [
    "# Categorizing sleep duration based on data/facts provided by WHO"
   ]
  },
  {
   "cell_type": "code",
   "execution_count": null,
   "id": "4b478d43-1383-41af-aa36-7d6fbf1fbec0",
   "metadata": {},
   "outputs": [],
   "source": [
    "def categorize_sleep(duration):\n",
    "    if duration < 7:\n",
    "        return 'Short'\n",
    "    elif 7 <= duration <= 9:\n",
    "        return 'Healthy'\n",
    "    else:\n",
    "        return 'Long'\n",
    "\n",
    "df['Sleep_category'] = df['Sleep duration'].apply(categorize_sleep)"
   ]
  },
  {
   "cell_type": "code",
   "execution_count": null,
   "id": "849d5ed8-5d4f-4419-bee5-1b200927cc25",
   "metadata": {},
   "outputs": [],
   "source": [
    "pd.crosstab(df['Sleep_category'], df['Dry Eye Disease'], normalize='index').plot(kind='bar',legend=False)"
   ]
  },
  {
   "cell_type": "markdown",
   "id": "b3a68f57-94de-4c35-855e-4b2d7ff96484",
   "metadata": {},
   "source": [
    "<p><b>There is no significant variation in the prevalence of Dry Eye Disease across different sleep duration categories.</b></p>"
   ]
  },
  {
   "cell_type": "code",
   "execution_count": null,
   "id": "02de7435-48f6-4486-b768-9b0798037fde",
   "metadata": {},
   "outputs": [],
   "source": [
    "#categorizing average screen time using data/facts from National Institute of health"
   ]
  },
  {
   "cell_type": "code",
   "execution_count": null,
   "id": "266b18ae-11f3-48b3-8f15-cf2404dbbb8c",
   "metadata": {},
   "outputs": [],
   "source": [
    "def categorize_screen_time(hours):\n",
    "    if hours <= 2:\n",
    "        return 'Low'\n",
    "    elif hours <= 6:\n",
    "        return 'Moderate'\n",
    "    elif hours <= 9:\n",
    "        return 'High'\n",
    "    else:\n",
    "        return 'Very High'\n",
    "\n",
    "df['Screen_Time_Category'] = df['Average screen time'].apply(categorize_screen_time)"
   ]
  },
  {
   "cell_type": "code",
   "execution_count": null,
   "id": "1c3bd98c-6978-4aea-acf9-6526c841d157",
   "metadata": {},
   "outputs": [],
   "source": [
    "pd.crosstab(df['Screen_Time_Category'], df['Dry Eye Disease'], normalize='index').plot(kind='bar',legend=False)"
   ]
  },
  {
   "cell_type": "markdown",
   "id": "b80f9b90-6c39-411e-aa9c-42dc749a17ed",
   "metadata": {},
   "source": [
    "<p>The \"Very High\" screen time category shows the highest proportion of individuals with Dry Eye Disease (DED).</br>\n",
    "The \"Low\", \"Moderate\", and \"High\" categories all show a relatively lower and consistent proportion of DED cases.</p>\n",
    "<p><b>This suggests a positive association between very high screen time (≥10 hrs/day) and DED prevalence.</b></p>"
   ]
  },
  {
   "cell_type": "code",
   "execution_count": null,
   "id": "fa1f07e1-83ae-4d6c-bcb7-6050d276c2ad",
   "metadata": {},
   "outputs": [],
   "source": [
    "# Using heat map checking corelation after adding new features"
   ]
  },
  {
   "cell_type": "code",
   "execution_count": null,
   "id": "b92d06d9-d257-40e6-b798-614f73cce057",
   "metadata": {},
   "outputs": [],
   "source": [
    "numeric=df.select_dtypes(include=np.number).columns\n",
    "plt.figure(figsize=(15,15))\n",
    "sns.heatmap(df[numeric].corr(),annot=True,cmap='viridis')"
   ]
  },
  {
   "cell_type": "markdown",
   "id": "bc7debf3-ad22-4d66-80b2-099b4d7c5d21",
   "metadata": {},
   "source": [
    "<p>\n",
    "<b>Systolic BP shows a strong positive correlation with Pulse Pressure (0.85), meaning higher systolic pressure is associated with higher pulse pressure.\n",
    "\n",
    "BMI has a strong positive correlation with Weight (0.75) and a strong negative correlation with Height (-0.64), which is expected given BMI's formula.\n",
    "\n",
    "Diastolic BP is moderately negatively correlated with Pulse Pressure (-0.52), indicating an inverse relationship.\n",
    "\n",
    "Most features like age, sleep duration, physical activity, screen time, etc. show very weak or negligible correlations with each other (values close to 0), suggesting they are largely independent in this dataset.</b>\n",
    "</p>"
   ]
  },
  {
   "cell_type": "code",
   "execution_count": null,
   "id": "1753bcc1-c478-455d-b1b3-89be7926d166",
   "metadata": {},
   "outputs": [],
   "source": [
    "sns.pairplot(df)\n",
    "plt.show()"
   ]
  },
  {
   "cell_type": "code",
   "execution_count": null,
   "id": "438b2fd0-e432-48bc-a647-308b7970123d",
   "metadata": {},
   "outputs": [],
   "source": [
    "df.head()"
   ]
  },
  {
   "cell_type": "code",
   "execution_count": null,
   "id": "0e7c2a90-623a-44ab-b7e6-c2825385daae",
   "metadata": {},
   "outputs": [],
   "source": [
    "df.info()"
   ]
  },
  {
   "cell_type": "markdown",
   "id": "5308fe30-6ca4-4f53-8539-177afb1f53f0",
   "metadata": {},
   "source": [
    "# Checking the Relationship Between Categorical Features and Target (Dry Eye Disease)"
   ]
  },
  {
   "cell_type": "code",
   "execution_count": null,
   "id": "f7b59aa2-d471-4df4-8fe3-8c58be5c1fd6",
   "metadata": {},
   "outputs": [],
   "source": [
    "categoric=df.select_dtypes(include='object').columns"
   ]
  },
  {
   "cell_type": "code",
   "execution_count": null,
   "id": "12db2b5e-4455-403c-9f88-2f271c482a15",
   "metadata": {},
   "outputs": [],
   "source": [
    "from scipy.stats import chi2_contingency\n",
    "\n",
    "for col in categoric:\n",
    "    if col !='Dry Eye Disease':\n",
    "        contingency_table = pd.crosstab(df[col], df['Dry Eye Disease'])\n",
    "        chi2, p, dof, expected = chi2_contingency(contingency_table)\n",
    "        print(f\"Chi-squared test for {col}:\")\n",
    "        print(f\"  p-value: {p}\")\n",
    "        if p < 0.05:\n",
    "            print(\"  Conclusion: There is a statistically significant association between\", col, \"and Dry Eye Disease.\")\n",
    "        else:\n",
    "            print(\"  Conclusion: There is no statistically significant association between\", col, \"and Dry Eye Disease.\")"
   ]
  },
  {
   "cell_type": "markdown",
   "id": "1b5b45c6-8f58-41a3-84bf-4a62d6e263a5",
   "metadata": {},
   "source": [
    "# Checking relationship between numeric columns and Target(DED)"
   ]
  },
  {
   "cell_type": "code",
   "execution_count": null,
   "id": "ea43872f-9be1-48c7-a811-53d72ab1c4d1",
   "metadata": {},
   "outputs": [],
   "source": [
    "from scipy.stats import ttest_ind\n",
    "numeric=df.select_dtypes(include=np.number).columns\n",
    "for i in numeric:\n",
    "    group1=df[df['Dry Eye Disease']=='Y'][i]\n",
    "    group2=df[df['Dry Eye Disease']=='N'][i]\n",
    "    t_stat, p_val = ttest_ind(group1, group2, equal_var=False)\n",
    "    print(f\"ttest_ind for {i}:\")\n",
    "    print(f\"  p-value: {p_val}\")\n",
    "    if p_val < 0.05:\n",
    "        print(\"  Conclusion: There is a statistically significant association between\", i, \"and Dry Eye Disease.\")\n",
    "    else:\n",
    "        print(\"  Conclusion: There is no statistically significant association between\", i, \"and Dry Eye Disease.\")"
   ]
  },
  {
   "cell_type": "code",
   "execution_count": null,
   "id": "03cff7bc-d476-4d64-90bb-3e64f9ff9954",
   "metadata": {},
   "outputs": [],
   "source": []
  },
  {
   "cell_type": "markdown",
   "id": "04d865c3-3148-4176-984a-442a13694a0a",
   "metadata": {},
   "source": [
    "#### Checking relationship of 'Discomfort Eye-strain' with others"
   ]
  },
  {
   "cell_type": "code",
   "execution_count": null,
   "id": "4f4beac7-4365-4925-bb7a-8dcd398e8d28",
   "metadata": {},
   "outputs": [],
   "source": [
    "categoric=df.select_dtypes(include='object').columns\n",
    "for col in categoric:\n",
    "    if col !='Discomfort Eye-strain':\n",
    "        contingency_table = pd.crosstab(df[col], df['Discomfort Eye-strain'])\n",
    "        chi2, p, dof, expected = chi2_contingency(contingency_table)\n",
    "        print(f\"Chi-squared test for {col}:\")\n",
    "        print(f\"  p-value: {p}\")\n",
    "        if p < 0.05:\n",
    "            print(\"  Conclusion: There is a statistically significant association between\", col, \"and Discomfort_Eye_strain.\")\n",
    "        else:\n",
    "            print(\"  Conclusion: There is no statistically significant association between\", col, \"and Discomfort_Eye_strain.\")"
   ]
  },
  {
   "cell_type": "code",
   "execution_count": null,
   "id": "0b031121-6046-48ce-a9d9-74053de8cb2b",
   "metadata": {},
   "outputs": [],
   "source": [
    "numeric=df.select_dtypes(include=np.number).columns\n",
    "for i in numeric:\n",
    "    group1=df[df['Discomfort Eye-strain']=='Y'][i]\n",
    "    group2=df[df['Discomfort Eye-strain']=='N'][i]\n",
    "    t_stat, p_val = ttest_ind(group1, group2, equal_var=False)\n",
    "    print(f\"ttest_ind for {i}:\")\n",
    "    print(f\"  p-value: {p_val}\")\n",
    "    if p_val < 0.05:\n",
    "        print(\"  Conclusion: There is a statistically significant association between\", i, \"and Discomfort_Eye_strain.\")\n",
    "    else:\n",
    "        print(\"  Conclusion: There is no statistically significant association between\", i, \"and Discomfort_Eye_strain.\")"
   ]
  },
  {
   "cell_type": "markdown",
   "id": "489d3e59-5f14-451d-b4e0-8929339e894a",
   "metadata": {},
   "source": [
    "#### Checking relation between Redness_in_eye with other features"
   ]
  },
  {
   "cell_type": "code",
   "execution_count": null,
   "id": "d2399f08-8518-4f90-b1ba-504a9fdbd690",
   "metadata": {},
   "outputs": [],
   "source": [
    "for col in categoric:\n",
    "    if col !='Redness in eye':\n",
    "        contingency_table = pd.crosstab(df[col], df['Redness in eye'])\n",
    "        chi2, p, dof, expected = chi2_contingency(contingency_table)\n",
    "        print(f\"Chi-squared test for {col}:\")\n",
    "        print(f\"  p-value: {p}\")\n",
    "        if p < 0.05:\n",
    "            print(\"  Conclusion: There is a statistically significant association between\", col, \"and Redness_in_eye.\")\n",
    "        else:\n",
    "            print(\"  Conclusion: There is no statistically significant association between\", col, \"and Redness_in_eye.\")"
   ]
  },
  {
   "cell_type": "code",
   "execution_count": null,
   "id": "0de3eb93-be08-4fe0-961b-744eb5d20bf3",
   "metadata": {},
   "outputs": [],
   "source": [
    "for i in numeric:\n",
    "    group1=df[df['Redness in eye']=='Y'][i]\n",
    "    group2=df[df['Redness in eye']=='N'][i]\n",
    "    t_stat, p_val = ttest_ind(group1, group2, equal_var=False)\n",
    "    print(f\"ttest_ind for {i}:\")\n",
    "    print(f\"  p-value: {p_val}\")\n",
    "    if p_val < 0.05:\n",
    "        print(\"  Conclusion: There is a statistically significant association between\", i, \"and Redness_in_eye.\")\n",
    "    else:\n",
    "        print(\"  Conclusion: There is no statistically significant association between\", i, \"and Redness_in_eye.\")"
   ]
  },
  {
   "cell_type": "markdown",
   "id": "94cc82cb-1d31-427b-85a3-d335b7522ccd",
   "metadata": {},
   "source": [
    "#### Checking Itchiness_Irritation_in_eye relation with other features"
   ]
  },
  {
   "cell_type": "code",
   "execution_count": null,
   "id": "62778dee-f959-45d4-b6a4-d3d2ca6f2669",
   "metadata": {},
   "outputs": [],
   "source": [
    "for col in categoric:\n",
    "    if col !='Itchiness/Irritation in eye':\n",
    "        contingency_table = pd.crosstab(df[col], df['Itchiness/Irritation in eye'])\n",
    "        chi2, p, dof, expected = chi2_contingency(contingency_table)\n",
    "        print(f\"Chi-squared test for {col}:\")\n",
    "        print(f\"  p-value: {p}\")\n",
    "        if p < 0.05:\n",
    "            print(\"  Conclusion: There is a statistically significant association between\", col, \"and Itchiness_Irritation_in_eye.\")\n",
    "        else:\n",
    "            print(\"  Conclusion: There is no statistically significant association between\", col, \"and Itchiness_Irritation_in_eye.\")"
   ]
  },
  {
   "cell_type": "code",
   "execution_count": null,
   "id": "45363e76-b37d-488c-8311-0b09c9a25b83",
   "metadata": {},
   "outputs": [],
   "source": [
    "for i in numeric:\n",
    "    group1=df[df['Redness in eye']=='Y'][i]\n",
    "    group2=df[df['Redness in eye']=='N'][i]\n",
    "    t_stat, p_val = ttest_ind(group1, group2, equal_var=False)\n",
    "    print(f\"ttest_ind for {i}:\")\n",
    "    print(f\"  p-value: {p_val}\")\n",
    "    if p_val < 0.05:\n",
    "        print(\"  Conclusion: There is a statistically significant association between\", i, \"and Redness_in_eye.\")\n",
    "    else:\n",
    "        print(\"  Conclusion: There is no statistically significant association between\", i, \"and Redness_in_eye.\")"
   ]
  },
  {
   "cell_type": "markdown",
   "id": "6d2b7cf7-1e5e-40de-89fe-db7f43855ceb",
   "metadata": {},
   "source": [
    "## Removing spaces and special characters from column names"
   ]
  },
  {
   "cell_type": "code",
   "execution_count": null,
   "id": "8ff9a2af-9280-478a-a687-af64408ecbbf",
   "metadata": {},
   "outputs": [],
   "source": [
    "df.columns = df.columns.str.strip()  # remove leading/trailing spaces\n",
    "df.columns = df.columns.str.replace('[^0-9a-zA-Z]+', '_', regex=True)"
   ]
  },
  {
   "cell_type": "code",
   "execution_count": null,
   "id": "843a72bd-83c3-46bf-9d4f-a04b7c457368",
   "metadata": {},
   "outputs": [],
   "source": [
    "df.columns"
   ]
  },
  {
   "cell_type": "code",
   "execution_count": null,
   "id": "afc2fc46-44cf-40c5-8adb-3260bcbf6275",
   "metadata": {},
   "outputs": [],
   "source": [
    "categoric=df.select_dtypes(include='object').columns\n",
    "categoric"
   ]
  },
  {
   "cell_type": "markdown",
   "id": "b2160d23-0a49-4263-8a62-89b8e9fe23a8",
   "metadata": {},
   "source": [
    "# Encoding the categoric features"
   ]
  },
  {
   "cell_type": "code",
   "execution_count": null,
   "id": "fece491a-7492-4e7a-850d-30b1269e2be0",
   "metadata": {},
   "outputs": [],
   "source": [
    "#df=df.drop('symptom_severity',axis=1)"
   ]
  },
  {
   "cell_type": "code",
   "execution_count": null,
   "id": "2337b99b-716f-4cc2-a1cc-717eec1c2f0d",
   "metadata": {},
   "outputs": [],
   "source": [
    "df1=df.copy()"
   ]
  },
  {
   "cell_type": "code",
   "execution_count": null,
   "id": "e4675061-196d-4090-b8ab-3ea4afc47ae9",
   "metadata": {},
   "outputs": [],
   "source": [
    "df1=df1.drop(['Height','Weight'],axis=1)"
   ]
  },
  {
   "cell_type": "code",
   "execution_count": null,
   "id": "9932d837-a28d-4273-931c-4f91f08d9a61",
   "metadata": {},
   "outputs": [],
   "source": [
    "cols=['Sleep_disorder', 'Wake_up_during_night',\n",
    "       'Feel_sleepy_during_day', 'Caffeine_consumption', 'Alcohol_consumption',\n",
    "       'Smoking', 'Medical_issue', 'Ongoing_medication',\n",
    "       'Smart_device_before_bed', 'Blue_light_filter', 'Discomfort_Eye_strain',\n",
    "       'Redness_in_eye', 'Itchiness_Irritation_in_eye', 'Dry_Eye_Disease']"
   ]
  },
  {
   "cell_type": "code",
   "execution_count": null,
   "id": "653ceaed-92aa-4461-a64f-ed5c9ab62c31",
   "metadata": {},
   "outputs": [],
   "source": [
    "df1[cols] = df1[cols].applymap(lambda x: 1 if x == 'Y' else 0)"
   ]
  },
  {
   "cell_type": "code",
   "execution_count": null,
   "id": "5c9941bc-5d39-43fd-823d-2c36f14a40aa",
   "metadata": {},
   "outputs": [],
   "source": [
    "df1 = pd.get_dummies(df1, columns=['BP_category', 'Sleep_category', 'Screen_Time_Category'], drop_first=True,dtype=int)"
   ]
  },
  {
   "cell_type": "code",
   "execution_count": null,
   "id": "4425ccc8-95e0-44cd-a90e-afc4cbeff5c9",
   "metadata": {},
   "outputs": [],
   "source": [
    "df1['Gender']=df1['Gender'].apply(lambda x:1 if x=='M' else 0)"
   ]
  },
  {
   "cell_type": "code",
   "execution_count": null,
   "id": "406022a7-a665-4fbe-ad04-a8c76b2e23fb",
   "metadata": {},
   "outputs": [],
   "source": [
    "numcol=['Age', 'Sleep_duration', 'Sleep_quality', 'Stress_level', 'Heart_rate','Daily_steps', 'Physical_activity',\n",
    "        'Average_screen_time', 'Systolic_BP', 'Diastolic_BP', 'Pulse_Pressure','BMI']"
   ]
  },
  {
   "cell_type": "code",
   "execution_count": null,
   "id": "8d1d7e95-0e97-49dc-a4ec-79c84fbad284",
   "metadata": {},
   "outputs": [],
   "source": [
    "ss=StandardScaler()\n",
    "df1[numcol]=ss.fit_transform(df1[numcol])"
   ]
  },
  {
   "cell_type": "code",
   "execution_count": null,
   "id": "505e04f1-c596-49b5-a505-07aeb97c6212",
   "metadata": {},
   "outputs": [],
   "source": [
    "df1.head(5)"
   ]
  },
  {
   "cell_type": "code",
   "execution_count": null,
   "id": "fe35f42b-80b2-45d6-9975-2422a2a8aaf3",
   "metadata": {},
   "outputs": [],
   "source": [
    "df1.info()"
   ]
  },
  {
   "cell_type": "code",
   "execution_count": null,
   "id": "a9c2a3a7-78a7-42c8-8d9f-4c94d49c66d8",
   "metadata": {},
   "outputs": [],
   "source": [
    "#df1.to_csv('encoded_dry_eye.csv', index=False)"
   ]
  },
  {
   "cell_type": "code",
   "execution_count": null,
   "id": "a7ef7d86-844a-477d-8afe-923d1ea0bc96",
   "metadata": {},
   "outputs": [],
   "source": [
    "# train test split"
   ]
  },
  {
   "cell_type": "code",
   "execution_count": null,
   "id": "3b751eef-8539-4c6b-be20-5b8af5500447",
   "metadata": {},
   "outputs": [],
   "source": [
    "X=df1.drop(['Dry_Eye_Disease'],axis=1)\n",
    "y=df1['Dry_Eye_Disease']"
   ]
  },
  {
   "cell_type": "code",
   "execution_count": null,
   "id": "cd0b2641-ee52-4e5e-9110-b20a43ddc930",
   "metadata": {},
   "outputs": [],
   "source": [
    "X_train,X_test,y_train,y_test=train_test_split(X,y,test_size=0.3,random_state=42,stratify=y)"
   ]
  },
  {
   "cell_type": "code",
   "execution_count": null,
   "id": "6411cce1-81e5-4ecd-99f3-ad641549363c",
   "metadata": {},
   "outputs": [],
   "source": [
    "print('Xtrain',X_train.shape)\n",
    "print('Xtest',X_test.shape)\n",
    "print('ytrain',y_train.shape)\n",
    "print('ytest',y_test.shape)"
   ]
  },
  {
   "cell_type": "code",
   "execution_count": null,
   "id": "55a454bd-7301-40c1-9cf2-a22e73d739e0",
   "metadata": {},
   "outputs": [],
   "source": [
    "print('y_train')\n",
    "y_train.value_counts()"
   ]
  },
  {
   "cell_type": "code",
   "execution_count": null,
   "id": "1286f6de-fbf2-45d0-a84a-abed60066c83",
   "metadata": {},
   "outputs": [],
   "source": [
    "print('y_test')\n",
    "y_test.value_counts()"
   ]
  },
  {
   "cell_type": "markdown",
   "id": "0c32925d-6830-45f6-b867-6a2a0e2b2251",
   "metadata": {},
   "source": [
    "# Defining functions"
   ]
  },
  {
   "cell_type": "code",
   "execution_count": null,
   "id": "40240985-cedd-4d9a-a9a6-b64f09e801a3",
   "metadata": {},
   "outputs": [],
   "source": [
    "def metrics(y_test,y_pred,model):\n",
    "    print(model)\n",
    "    print('accuracy',accuracy_score(y_test,y_pred))\n",
    "    print('precision',precision_score(y_test,y_pred))\n",
    "    print('recall',recall_score(y_test,y_pred))\n",
    "    print('fi score',f1_score(y_test,y_pred))\n",
    "    print('classification report',classification_report(y_test,y_pred))"
   ]
  },
  {
   "cell_type": "code",
   "execution_count": null,
   "id": "36b89e44-495b-427d-ad57-84fee0dbd2cc",
   "metadata": {},
   "outputs": [],
   "source": [
    "def plot_roc_curve(y_true, y_probs, model):\n",
    "    fpr, tpr, thresholds = roc_curve(y_true, y_probs)\n",
    "\n",
    "    # Calculate AUC Score\n",
    "    auc_score = roc_auc_score(y_true, y_probs)\n",
    "    print(f'ROC-AUC Score for {model}: {auc_score:.2f}')\n",
    "\n",
    "    # Plot\n",
    "    plt.figure(figsize=(8,6))\n",
    "    plt.plot(fpr, tpr, color='blue', label=f'{model} (AUC = {auc_score:.2f})')\n",
    "    plt.plot([0, 1], [0, 1], color='red', linestyle='--') \n",
    "    plt.xlabel('False Positive Rate')\n",
    "    plt.ylabel('True Positive Rate')\n",
    "    plt.title(f'ROC Curve - {model}')\n",
    "    plt.legend()\n",
    "    plt.grid()\n",
    "    plt.show()"
   ]
  },
  {
   "cell_type": "code",
   "execution_count": null,
   "id": "70c095e8-86f1-4b85-b6ba-739e6201ed78",
   "metadata": {},
   "outputs": [],
   "source": [
    "def plot_confusion_matrix(y_test, y_pred):\n",
    "\n",
    "    cm = confusion_matrix(y_test, y_pred)\n",
    "    plt.figure(figsize=(6,5))\n",
    "    sns.heatmap(cm, annot=True, fmt='d', cmap='Blues', cbar=False)\n",
    "    plt.xlabel('Predicted')\n",
    "    plt.ylabel('Actual')\n",
    "    plt.show()"
   ]
  },
  {
   "cell_type": "code",
   "execution_count": null,
   "id": "aa9201db-8660-4594-8407-e818ca8fc4a3",
   "metadata": {},
   "outputs": [],
   "source": [
    "from statsmodels.stats.outliers_influence import variance_inflation_factor\n",
    "def vif_check(X,numcol):\n",
    "    vif=pd.DataFrame()\n",
    "    vif['feature']=X[numcol].columns\n",
    "    vif['vifscore']=[variance_inflation_factor(X[numcol].values,i) for i in range(X[numcol].shape[1])]\n",
    "    vif['vifscore']=round(vif['vifscore'],2)\n",
    "    vif=vif.sort_values(by='vifscore',ascending=False)\n",
    "    return vif"
   ]
  },
  {
   "cell_type": "code",
   "execution_count": null,
   "id": "d385c090-69a6-4362-af25-188d191b018c",
   "metadata": {},
   "outputs": [],
   "source": [
    "def imp_feature(model):\n",
    "    importance = model.feature_importances_\n",
    "    features = X_train.columns\n",
    "    \n",
    "    feat_df = pd.DataFrame({'Feature': features, 'Importance': importance})\n",
    "    feat_df = feat_df.sort_values(by='Importance', ascending=False)\n",
    "    \n",
    "    plt.figure(figsize=(10,6))\n",
    "    plt.barh(feat_df['Feature'], feat_df['Importance'])\n",
    "    plt.xlabel(\"Importance Score\")\n",
    "    plt.ylabel(\"Features\")\n",
    "    plt.title(\"Feature Importance\")\n",
    "    plt.gca().invert_yaxis()\n",
    "    plt.show()"
   ]
  },
  {
   "cell_type": "markdown",
   "id": "118ce992-17a4-4df5-bc0b-7e2dbc22fc0e",
   "metadata": {},
   "source": [
    "# Model building"
   ]
  },
  {
   "cell_type": "markdown",
   "id": "da763203-e751-4b4d-9e5d-9d036ada9351",
   "metadata": {},
   "source": [
    "### Logistic Regression"
   ]
  },
  {
   "cell_type": "code",
   "execution_count": null,
   "id": "33b74e1d-cb7f-480c-a0f8-ececd4fd54cc",
   "metadata": {},
   "outputs": [],
   "source": [
    "lr=LogisticRegression()\n",
    "lr_model=lr.fit(X_train,y_train)\n"
   ]
  },
  {
   "cell_type": "code",
   "execution_count": null,
   "id": "5fd70074-8c13-48a1-acef-2740842e6d2a",
   "metadata": {},
   "outputs": [],
   "source": [
    "y_train_pred = lr_model.predict(X_train)\n",
    "y_test_pred = lr_model.predict(X_test)\n",
    "\n",
    "metrics(y_train, y_train_pred,'train_metrics')"
   ]
  },
  {
   "cell_type": "code",
   "execution_count": null,
   "id": "9c2d3a9b-0a14-42ed-9a1d-40700097bfff",
   "metadata": {},
   "outputs": [],
   "source": [
    "metrics(y_test, y_test_pred,'test_metrics')"
   ]
  },
  {
   "cell_type": "markdown",
   "id": "ebc3daeb-afd8-427d-8a7d-77b8f99eaaf3",
   "metadata": {},
   "source": [
    "<p><b>The model well performing well on both train and test data</b></p> "
   ]
  },
  {
   "cell_type": "code",
   "execution_count": null,
   "id": "39016bb1-6f59-49fa-84bd-0679e006d810",
   "metadata": {},
   "outputs": [],
   "source": [
    "lr=LogisticRegression()\n",
    "lr_model=lr.fit(X_train,y_train)\n",
    "y_pred=lr_model.predict(X_test)\n",
    "y_pred_proba=lr_model.predict_proba(X_test)[:,1]"
   ]
  },
  {
   "cell_type": "code",
   "execution_count": null,
   "id": "b0cc58c4-7e1d-44d8-9e52-5a65fee8fa8f",
   "metadata": {},
   "outputs": [],
   "source": [
    "metrics(y_test,y_pred,'Logistic Regression')"
   ]
  },
  {
   "cell_type": "code",
   "execution_count": null,
   "id": "77215f5b-de1e-408d-9bef-a37d2c2f78df",
   "metadata": {},
   "outputs": [],
   "source": [
    "plot_confusion_matrix(y_test,y_pred)"
   ]
  },
  {
   "cell_type": "code",
   "execution_count": null,
   "id": "ffb37b26-777d-4f3e-ae00-1867fef2388d",
   "metadata": {},
   "outputs": [],
   "source": [
    "metrics(y_test,y_pred,'Logistic Regression')"
   ]
  },
  {
   "cell_type": "code",
   "execution_count": null,
   "id": "39e24b39-22ad-45be-b6d6-c2e5857d73ba",
   "metadata": {},
   "outputs": [],
   "source": [
    "vif_check(X_train,numcol)"
   ]
  },
  {
   "cell_type": "code",
   "execution_count": null,
   "id": "f5c43990-7e2b-418f-b410-9b28dd1d734d",
   "metadata": {},
   "outputs": [],
   "source": [
    "X=df1.drop(['Dry_Eye_Disease','Diastolic_BP'],axis=1)\n",
    "y=df1['Dry_Eye_Disease']\n",
    "X_train,X_test,y_train,y_test=train_test_split(X,y,test_size=0.3,random_state=42)\n",
    "print('Xtrain',X_train.shape)\n",
    "print('Xtest',X_test.shape)\n",
    "print('ytrain',y_train.shape)\n",
    "print('ytest',y_test.shape)"
   ]
  },
  {
   "cell_type": "code",
   "execution_count": null,
   "id": "eee8e0ba-b18d-4e1f-a11e-06ee5d4fec30",
   "metadata": {},
   "outputs": [],
   "source": [
    "numcol1=['Age', 'Sleep_duration', 'Sleep_quality', 'Stress_level', 'Heart_rate','Daily_steps', 'Physical_activity',\n",
    "        'Average_screen_time', 'Systolic_BP', 'Pulse_Pressure','BMI']\n",
    "ss=StandardScaler()\n",
    "X_train[numcol1]=ss.fit_transform(X_train[numcol1])\n",
    "X_test[numcol1]=ss.transform(X_test[numcol1])"
   ]
  },
  {
   "cell_type": "code",
   "execution_count": null,
   "id": "5a8ff57a-ef31-4740-aba2-8d1b4eb95f1d",
   "metadata": {},
   "outputs": [],
   "source": [
    "vif_check(X_train,numcol1)"
   ]
  },
  {
   "cell_type": "code",
   "execution_count": null,
   "id": "934a12b5-5162-43b4-b5ea-62b8587806ce",
   "metadata": {},
   "outputs": [],
   "source": [
    "lr=LogisticRegression()\n",
    "lr_model=lr.fit(X_train,y_train)\n",
    "train_pred=lr_model.predict(X_train)\n",
    "y_pred=lr_model.predict(X_test)\n",
    "y_pred_proba=lr_model.predict_proba(X_test)[:,-1]\n",
    "y_pred_cust = (y_pred_proba >= 0.4).astype(int)"
   ]
  },
  {
   "cell_type": "code",
   "execution_count": null,
   "id": "4b4bc8cc-c210-45d0-b799-b2e2b8f34ead",
   "metadata": {},
   "outputs": [],
   "source": [
    "metrics(y_train,train_pred,'train accuracy')"
   ]
  },
  {
   "cell_type": "code",
   "execution_count": null,
   "id": "152f28f9-9bae-45fb-b6d7-072d1c4bf0e7",
   "metadata": {},
   "outputs": [],
   "source": [
    "metrics(y_test,y_pred,'test accuracy')"
   ]
  },
  {
   "cell_type": "code",
   "execution_count": null,
   "id": "25a358b8-dab6-4fcb-9664-ae529bde71c1",
   "metadata": {},
   "outputs": [],
   "source": [
    "plot_confusion_matrix(y_test,y_pred)"
   ]
  },
  {
   "cell_type": "code",
   "execution_count": null,
   "id": "ccc9d37a-1f1f-4f62-a08c-24d2c92627d0",
   "metadata": {},
   "outputs": [],
   "source": [
    "plot_roc_curve(y_test,y_pred_proba,'lr-model')"
   ]
  },
  {
   "cell_type": "code",
   "execution_count": null,
   "id": "1606d009-17f6-4724-a698-b42678dde9af",
   "metadata": {},
   "outputs": [],
   "source": [
    "metrics(y_test,y_pred_cust,'threshold 0.4')"
   ]
  },
  {
   "cell_type": "markdown",
   "id": "d3d1bfc5-cdd7-45e2-9d4d-189eef222182",
   "metadata": {},
   "source": [
    "## Decision Tree"
   ]
  },
  {
   "cell_type": "code",
   "execution_count": null,
   "id": "cd4c7290-4159-461a-b98f-71122abbc756",
   "metadata": {},
   "outputs": [],
   "source": [
    "dt_model = DecisionTreeClassifier()\n",
    "dt_model.fit(X_train, y_train)\n",
    "train_pred=dt_model.predict(X_train)\n",
    "y_pred = dt_model.predict(X_test)\n",
    "y_pred_prob = dt_model.predict_proba(X_test)[:, 1]"
   ]
  },
  {
   "cell_type": "code",
   "execution_count": null,
   "id": "c2648cb7-cdfd-4e93-9855-5914a1d87d1b",
   "metadata": {},
   "outputs": [],
   "source": [
    "metrics(y_train,train_pred,'train metrics')"
   ]
  },
  {
   "cell_type": "code",
   "execution_count": null,
   "id": "d1fd11c6-b167-4a8e-8c24-04e1386e31cd",
   "metadata": {},
   "outputs": [],
   "source": [
    "metrics(y_test,y_pred,'test metrics')"
   ]
  },
  {
   "cell_type": "code",
   "execution_count": null,
   "id": "ea00912a-da99-4c2c-8d5a-71b65ece2b5d",
   "metadata": {},
   "outputs": [],
   "source": [
    "plot_confusion_matrix(y_test,y_pred)"
   ]
  },
  {
   "cell_type": "code",
   "execution_count": null,
   "id": "7c0d9550-b522-4019-aac8-c192ae0f582a",
   "metadata": {},
   "outputs": [],
   "source": [
    "#Tunned Dt"
   ]
  },
  {
   "cell_type": "code",
   "execution_count": null,
   "id": "d07ccc21-a2fb-49cf-8f48-263d0c050a4d",
   "metadata": {},
   "outputs": [],
   "source": [
    "param = {\n",
    "    'criterion': ['gini', 'entropy'],\n",
    "    'max_depth': [3, 5, 10, 15, 20, None],\n",
    "    'min_samples_split': [5, 10, 20, 50],\n",
    "    'min_samples_leaf': [2, 4, 10]\n",
    "}"
   ]
  },
  {
   "cell_type": "code",
   "execution_count": null,
   "id": "f8efde4f-5a6d-4061-ac41-427136a73b07",
   "metadata": {},
   "outputs": [],
   "source": [
    "dt_serach=GridSearchCV(estimator=dt_model,param_grid=param,cv=5,n_jobs=-1,verbose=1)\n",
    "model=dt_serach.fit(X_train,y_train)\n",
    "print(model.best_params_)"
   ]
  },
  {
   "cell_type": "code",
   "execution_count": null,
   "id": "81bfa7bc-aff5-4635-8b54-37c91fc9ca01",
   "metadata": {},
   "outputs": [],
   "source": [
    "dt_model = DecisionTreeClassifier(criterion='entropy',max_depth=3,min_samples_leaf=2,min_samples_split=5)\n",
    "dt_model.fit(X_train, y_train)\n",
    "train_pred=dt_model.predict(X_train)\n",
    "y_pred = dt_model.predict(X_test)\n",
    "y_pred_proba=dt_model.predict_proba(X_test)[:,1]"
   ]
  },
  {
   "cell_type": "code",
   "execution_count": null,
   "id": "8d2b065c-5b7e-40cb-8118-a96b46ea15fe",
   "metadata": {},
   "outputs": [],
   "source": [
    "metrics(y_train,train_pred,'train prediction')"
   ]
  },
  {
   "cell_type": "code",
   "execution_count": null,
   "id": "931ed5df-1767-49d1-9eb3-e2642347b934",
   "metadata": {},
   "outputs": [],
   "source": [
    "metrics(y_test,y_pred,'Test prediction')"
   ]
  },
  {
   "cell_type": "code",
   "execution_count": null,
   "id": "4c74d9b4-93cc-4f7f-9dd0-eff6b6cc2521",
   "metadata": {},
   "outputs": [],
   "source": [
    "plot_confusion_matrix(y_test,y_pred)"
   ]
  },
  {
   "cell_type": "code",
   "execution_count": null,
   "id": "9934dd7a-868d-48b5-9842-c1fd0929f68c",
   "metadata": {},
   "outputs": [],
   "source": [
    "plot_roc_curve(y_test,y_pred_proba,'dt-model')"
   ]
  },
  {
   "cell_type": "markdown",
   "id": "b11c5758-1a2a-4904-88b7-44a7bb371d2b",
   "metadata": {},
   "source": [
    "## Random forest"
   ]
  },
  {
   "cell_type": "code",
   "execution_count": null,
   "id": "edf818d6-a1fc-455b-ad2a-366c58238f73",
   "metadata": {},
   "outputs": [],
   "source": [
    "rf = RandomForestClassifier()\n",
    "rf_model = rf.fit(X_train, y_train)\n",
    "train_pred=rf_model.predict(X_train)\n",
    "y_pred = rf_model.predict(X_test)\n",
    "y_pred_proba = rf_model.predict_proba(X_test)[:,1]"
   ]
  },
  {
   "cell_type": "code",
   "execution_count": null,
   "id": "cd10cb62-327c-4fd0-a4ef-b724dacf4cfb",
   "metadata": {},
   "outputs": [],
   "source": [
    "metrics(y_train, train_pred, 'train_metrics')"
   ]
  },
  {
   "cell_type": "code",
   "execution_count": null,
   "id": "f60abc10-05fb-43fa-b9d9-ec421765a137",
   "metadata": {},
   "outputs": [],
   "source": [
    "metrics(y_test,y_pred,'test metrics')"
   ]
  },
  {
   "cell_type": "code",
   "execution_count": null,
   "id": "8c201e09-5e37-4cbe-a4cc-7cbe1f0d12c8",
   "metadata": {},
   "outputs": [],
   "source": [
    "plot_confusion_matrix(y_test,y_pred)"
   ]
  },
  {
   "cell_type": "markdown",
   "id": "f85b228e-5c05-4f7e-a1f3-e7215dacdbb5",
   "metadata": {},
   "source": [
    "#### Tunning Random forest"
   ]
  },
  {
   "cell_type": "code",
   "execution_count": null,
   "id": "d4a38089-7448-4f62-998d-87acdc805a0e",
   "metadata": {},
   "outputs": [],
   "source": [
    "param = {\n",
    "    'n_estimators': [100, 200],\n",
    "    'max_depth': [10, 20, None],\n",
    "    'min_samples_split': [2, 5],\n",
    "    'class_weight': ['balanced']\n",
    "}"
   ]
  },
  {
   "cell_type": "code",
   "execution_count": null,
   "id": "c3acbe20-f0e4-41b0-b190-cafe85fb45ef",
   "metadata": {},
   "outputs": [],
   "source": [
    "random_search = GridSearchCV(\n",
    "    estimator=rf,\n",
    "    param_grid=param,\n",
    "    cv=5,\n",
    "    verbose=1,\n",
    "    n_jobs=-1\n",
    ")\n",
    "random_search.fit(X_train, y_train)\n",
    "best_rf = random_search.best_estimator_\n",
    "y_pred = best_rf.predict(X_test)\n",
    "print(\"Best Params:\", random_search.best_params_)"
   ]
  },
  {
   "cell_type": "code",
   "execution_count": null,
   "id": "df4166d5-565a-4662-a90c-695b3a14ea4b",
   "metadata": {},
   "outputs": [],
   "source": [
    "rf = RandomForestClassifier(class_weight='balanced',n_estimators=200,min_samples_split=5,random_state=42,max_depth=20)\n",
    "rf_model = rf.fit(X_train, y_train)\n",
    "y_pred_rf = rf_model.predict(X_test)\n",
    "metrics(y_test, y_pred_rf, 'Random Forest')"
   ]
  },
  {
   "cell_type": "code",
   "execution_count": null,
   "id": "064a472d-491d-4e00-b178-d8e06f7fe85c",
   "metadata": {},
   "outputs": [],
   "source": [
    "plot_confusion_matrix(y_test,y_pred_rf)"
   ]
  },
  {
   "cell_type": "code",
   "execution_count": null,
   "id": "ad887b49-418f-41ba-b85d-24ad55928dc3",
   "metadata": {},
   "outputs": [],
   "source": [
    "imp_feature(rf)"
   ]
  },
  {
   "cell_type": "markdown",
   "id": "c484192d-8709-418c-b2bc-5d2a9d9b97b5",
   "metadata": {},
   "source": [
    "## AdaBoost"
   ]
  },
  {
   "cell_type": "code",
   "execution_count": null,
   "id": "d8d04c16-3750-4be7-90a4-765818bb87d3",
   "metadata": {},
   "outputs": [],
   "source": [
    "ada=AdaBoostClassifier(random_state=42)\n",
    "ad_model=ada.fit(X_train,y_train)\n",
    "y_pred=ad_model.predict(X_test)"
   ]
  },
  {
   "cell_type": "code",
   "execution_count": null,
   "id": "0f2281f1-21fb-4b01-a5fe-81238e382595",
   "metadata": {},
   "outputs": [],
   "source": [
    "metrics(y_test,y_pred,'ad_model')"
   ]
  },
  {
   "cell_type": "code",
   "execution_count": null,
   "id": "55be6afb-06fc-40c0-bd75-599b41ecafe1",
   "metadata": {},
   "outputs": [],
   "source": [
    "plot_confusion_matrix(y_test,y_pred)"
   ]
  },
  {
   "cell_type": "code",
   "execution_count": null,
   "id": "ab929da2-a9d2-4873-8de6-586f46d166f9",
   "metadata": {},
   "outputs": [],
   "source": [
    "#tunning ada boost"
   ]
  },
  {
   "cell_type": "code",
   "execution_count": null,
   "id": "e9ff982a-9fdb-44f8-b03d-27300c232285",
   "metadata": {},
   "outputs": [],
   "source": [
    "base_dt=DecisionTreeClassifier()\n",
    "param_grid = {\n",
    "    'n_estimators': [50, 100, 200],\n",
    "    'learning_rate': [0.01, 0.1, 0.5, 1],\n",
    "    'algorithm': ['SAMME'],\n",
    "    'estimator': [DecisionTreeClassifier(max_depth=1),\n",
    "                  DecisionTreeClassifier(max_depth=2),\n",
    "                  DecisionTreeClassifier(max_depth=3)]\n",
    "}"
   ]
  },
  {
   "cell_type": "code",
   "execution_count": null,
   "id": "36e74cdb-b406-4ba1-8678-2ceaf4ffc577",
   "metadata": {},
   "outputs": [],
   "source": [
    "ada = AdaBoostClassifier(estimator=base_dt)\n",
    "grid = GridSearchCV(estimator=ada, param_grid=params, cv=5, scoring='accuracy', n_jobs=-1)\n",
    "grid.fit(X_train_sel, y_train)\n",
    "print(\"Best Params:\", grid.best_params_)"
   ]
  },
  {
   "cell_type": "code",
   "execution_count": null,
   "id": "ec3f42e8-accb-400c-a6dc-b77b2c7bf647",
   "metadata": {},
   "outputs": [],
   "source": [
    "ada=AdaBoostClassifier(estimator=DecisionTreeClassifier(max_depth=2),algorithm='SAMME',learning_rate=0.01,n_estimators=50,random_state=42)\n",
    "ad_model=ada.fit(X_train,y_train)\n",
    "y_pred=ad_model.predict(X_test)"
   ]
  },
  {
   "cell_type": "code",
   "execution_count": null,
   "id": "90399049-402e-4305-9c8b-e9f106d8d382",
   "metadata": {},
   "outputs": [],
   "source": [
    "metrics(y_test,y_pred,'tunned_model')"
   ]
  },
  {
   "cell_type": "code",
   "execution_count": null,
   "id": "7f9f13ee-9147-4642-895c-ae14a979308d",
   "metadata": {},
   "outputs": [],
   "source": [
    "imp_feature(ad_model)"
   ]
  },
  {
   "cell_type": "markdown",
   "id": "128e3fab-5746-44ff-9e68-6a9700adf3fb",
   "metadata": {},
   "source": [
    "## Gradient Boost"
   ]
  },
  {
   "cell_type": "code",
   "execution_count": null,
   "id": "8499fcba-ed59-4b5e-858c-47eca7a9f136",
   "metadata": {},
   "outputs": [],
   "source": [
    "gb = GradientBoostingClassifier()\n",
    "gb.fit(X_train, y_train)\n",
    "y_pred = gb.predict(X_test)"
   ]
  },
  {
   "cell_type": "code",
   "execution_count": null,
   "id": "1cf70699-2356-4f54-b3ca-cc4d39c39e07",
   "metadata": {},
   "outputs": [],
   "source": [
    "metrics(y_test,y_pred,'GB_model')"
   ]
  },
  {
   "cell_type": "code",
   "execution_count": null,
   "id": "117b93f7-f795-48b7-956f-3b7298c9ebef",
   "metadata": {},
   "outputs": [],
   "source": [
    "param_grid = {\n",
    "    'n_estimators': [100, 200, 300],\n",
    "    'learning_rate': [0.01, 0.1, 0.2],\n",
    "    'max_depth': [3, 5, 7],\n",
    "    'subsample': [0.8, 1.0],\n",
    "    'max_features': ['sqrt', 'log2']\n",
    "}\n",
    "\n",
    "grid = GridSearchCV(estimator=gb, param_grid=param_grid, cv=5, scoring='accuracy', n_jobs=-1)\n",
    "grid.fit(X_train, y_train)\n",
    "\n",
    "print(\"Best Parameters:\", grid.best_params_)\n",
    "print(\"Best Score:\", grid.best_score_)"
   ]
  },
  {
   "cell_type": "code",
   "execution_count": null,
   "id": "e74b0a50-4aa8-4eed-9dda-87d2040c27a3",
   "metadata": {},
   "outputs": [],
   "source": [
    "gb = GradientBoostingClassifier(learning_rate=0.1,max_depth=3,max_features='log2',n_estimators=100,subsample=1.0,random_state=42)\n",
    "gb.fit(X_train, y_train)\n",
    "y_pred = gb.predict(X_test)"
   ]
  },
  {
   "cell_type": "code",
   "execution_count": null,
   "id": "ba83d2d3-5332-497c-96c8-3644b7b3674c",
   "metadata": {},
   "outputs": [],
   "source": [
    "metrics(y_test,y_pred,'GB-tunned')"
   ]
  },
  {
   "cell_type": "code",
   "execution_count": null,
   "id": "6f1f1223-0b70-482c-9f69-5a98ca0fa37c",
   "metadata": {},
   "outputs": [],
   "source": [
    "plot_confusion_matrix(y_test,y_pred)"
   ]
  },
  {
   "cell_type": "code",
   "execution_count": null,
   "id": "c5a59cf6-138d-4a0d-b418-29f118ce4978",
   "metadata": {},
   "outputs": [],
   "source": [
    "imp_feature(gb)"
   ]
  },
  {
   "cell_type": "markdown",
   "id": "54100a3d-c137-4e98-baf8-f62062dfffe5",
   "metadata": {},
   "source": [
    "## XGBOOST"
   ]
  },
  {
   "cell_type": "code",
   "execution_count": null,
   "id": "261dd777-6811-49fd-baaa-38977fe91e9c",
   "metadata": {},
   "outputs": [],
   "source": [
    "num_neg = sum(y_train == 0)\n",
    "num_pos = sum(y_train == 1)\n",
    "\n",
    "scale_pos_weight = num_pos/ num_neg\n",
    "print(\"scale_pos_weight =\", scale_pos_weight)"
   ]
  },
  {
   "cell_type": "code",
   "execution_count": null,
   "id": "4132440c-03ef-4253-b924-8dc854047644",
   "metadata": {},
   "outputs": [],
   "source": [
    "XGB = XGBClassifier()\n",
    "xgb_model=XGB.fit(X_train, y_train)\n",
    "y_pred = xgb_model.predict(X_test)"
   ]
  },
  {
   "cell_type": "code",
   "execution_count": null,
   "id": "939fd5f0-d549-4a59-b1a6-95fc7129f9c8",
   "metadata": {},
   "outputs": [],
   "source": [
    "metrics(y_test,y_pred,'XG-model')"
   ]
  },
  {
   "cell_type": "code",
   "execution_count": null,
   "id": "80dd9a35-a013-40d5-8123-2c278dc92866",
   "metadata": {},
   "outputs": [],
   "source": [
    "plot_confusion_matrix(y_test,y_pred)"
   ]
  },
  {
   "cell_type": "code",
   "execution_count": null,
   "id": "3808a04c-31ac-4df1-a095-4cfe00a64102",
   "metadata": {},
   "outputs": [],
   "source": [
    "param = {\n",
    "    'n_estimators': [100, 200, 500],\n",
    "    'learning_rate': [0.01, 0.05, 0.1, 0.2],\n",
    "    'max_depth': [3, 4, 5, 6],\n",
    "    'min_child_weight': [1, 3, 5],\n",
    "    'gamma': [0, 0.1, 0.5],\n",
    "    'scale_pos_weight': [1, 2, 5] \n",
    "}"
   ]
  },
  {
   "cell_type": "code",
   "execution_count": null,
   "id": "c0bc0aa9-ac9d-4dec-90aa-30c803fbe3ea",
   "metadata": {},
   "outputs": [],
   "source": [
    "grid_search = GridSearchCV(\n",
    "    estimator=XGB,\n",
    "    param_grid=param,\n",
    "    scoring='recall',\n",
    "    cv=5,\n",
    "    verbose=2,\n",
    "    n_jobs=-1\n",
    ")\n",
    "\n",
    "grid_search.fit(X_train, y_train)\n",
    "print(\"Best Parameters:\", grid_search.best_params_)"
   ]
  },
  {
   "cell_type": "code",
   "execution_count": null,
   "id": "4ca57e42-c57f-4a8f-9bf5-5d8244df87d8",
   "metadata": {},
   "outputs": [],
   "source": [
    "XGB = XGBClassifier(learning_rate=0.01,max_depth=3,min_child_weight=1,n_estimators=100,scale_pos_weight=1.81)\n",
    "xgb_model=XGB.fit(X_train, y_train)\n",
    "y_pred = xgb_model.predict(X_test)\n",
    "y_pred_prob=xgb_model.predict_proba(X_test)[:,1]\n",
    "y_pred_cust=(y_pred_prob>=0.7).astype(int)"
   ]
  },
  {
   "cell_type": "code",
   "execution_count": null,
   "id": "bfb3f392-17ed-4908-8427-e4fef12802fe",
   "metadata": {},
   "outputs": [],
   "source": [
    "metrics(y_test,y_pred_cust,'tunned model')"
   ]
  },
  {
   "cell_type": "markdown",
   "id": "3b60819a-67cf-463c-aef3-2334081a09ab",
   "metadata": {},
   "source": [
    "### Support Vector Machines (SVM)"
   ]
  },
  {
   "cell_type": "code",
   "execution_count": null,
   "id": "9760fd93-3aae-48f2-be61-ad673a1c15e6",
   "metadata": {},
   "outputs": [],
   "source": [
    "svm = SVC()\n",
    "svm.fit(X_train, y_train)\n",
    "y_pred = svm.predict(X_test)\n"
   ]
  },
  {
   "cell_type": "code",
   "execution_count": null,
   "id": "0ccbb7a3-1d28-4bd5-8246-c7b83996e6bf",
   "metadata": {},
   "outputs": [],
   "source": [
    "metrics(y_test,y_pred,'SVM_model')"
   ]
  },
  {
   "cell_type": "code",
   "execution_count": null,
   "id": "de1ebdeb-3dc9-44b2-a0db-f2eeddeb4163",
   "metadata": {},
   "outputs": [],
   "source": [
    "plot_confusion_matrix(y_test,y_pred)"
   ]
  },
  {
   "cell_type": "code",
   "execution_count": null,
   "id": "ce6c4137-9417-464e-9952-5683378de24f",
   "metadata": {},
   "outputs": [],
   "source": [
    "#tunned svm"
   ]
  },
  {
   "cell_type": "code",
   "execution_count": null,
   "id": "e66bc5ba-9fe2-47f0-858d-3cf80b68909b",
   "metadata": {},
   "outputs": [],
   "source": [
    "param_grid = {\n",
    "    'C': [0.1, 1, 10],\n",
    "    'kernel': ['linear', 'rbf'],\n",
    "    'gamma': ['scale', 'auto']\n",
    "}\n",
    "\n",
    "grid = GridSearchCV(svm, param_grid, cv=5, scoring='accuracy', n_jobs=-1)\n",
    "grid.fit(X_train, y_train)\n",
    "\n",
    "print(\"Best Parameters:\", grid.best_params_)\n",
    "print(\"Best Score:\", grid.best_score_)"
   ]
  },
  {
   "cell_type": "code",
   "execution_count": null,
   "id": "643ddd8c-446f-4d62-b3a9-515a0a6b10a8",
   "metadata": {},
   "outputs": [],
   "source": [
    "svm = SVC(C=1,gamma='scale',kernel='rbf')\n",
    "svm.fit(X_train, y_train)\n",
    "y_pred = svm.predict(X_test)"
   ]
  },
  {
   "cell_type": "code",
   "execution_count": null,
   "id": "a3c91324-3e38-4784-aeb7-8191376c35b9",
   "metadata": {},
   "outputs": [],
   "source": [
    "metrics(y_test,y_pred,'tunned_svm')"
   ]
  },
  {
   "cell_type": "code",
   "execution_count": null,
   "id": "c0f67e86-bc0a-4ac3-8fb3-a3b89a269cfb",
   "metadata": {},
   "outputs": [],
   "source": [
    "plot_confusion_matrix(y_test,y_pred)"
   ]
  },
  {
   "cell_type": "markdown",
   "id": "02bc00fa-cc7c-4512-8918-13b916abd312",
   "metadata": {},
   "source": [
    "### Light GBM"
   ]
  },
  {
   "cell_type": "code",
   "execution_count": null,
   "id": "16139d42-3df8-4d13-8ba6-ed236ca10e9a",
   "metadata": {},
   "outputs": [],
   "source": [
    "lgbm = LGBMClassifier()\n",
    "lgbm.fit(X_train, y_train)\n",
    "y_pred = lgbm.predict(X_test)"
   ]
  },
  {
   "cell_type": "code",
   "execution_count": null,
   "id": "80ba70ab-5314-43fd-b64b-edaa221044e9",
   "metadata": {},
   "outputs": [],
   "source": [
    "metrics(y_test,y_pred,'LGBM')"
   ]
  },
  {
   "cell_type": "code",
   "execution_count": null,
   "id": "abf5c926-b577-4dfc-bcab-a49a55f021e1",
   "metadata": {},
   "outputs": [],
   "source": [
    "plot_confusion_matrix(y_test,y_pred)"
   ]
  },
  {
   "cell_type": "code",
   "execution_count": null,
   "id": "d897b05b-d656-42f3-8b7b-2ba0265ff769",
   "metadata": {},
   "outputs": [],
   "source": [
    "#tunning"
   ]
  },
  {
   "cell_type": "code",
   "execution_count": null,
   "id": "c8c6fc9a-aba7-4081-ace3-4ce228487973",
   "metadata": {},
   "outputs": [],
   "source": [
    "param_grid = {\n",
    "    'n_estimators': [100, 200],\n",
    "    'learning_rate': [0.01, 0.1],\n",
    "    'max_depth': [5, 10, -1],\n",
    "    'num_leaves': [31, 64],\n",
    "    'subsample': [0.8, 1.0],\n",
    "    'colsample_bytree': [0.8, 1.0]\n",
    "}\n",
    "\n",
    "grid = GridSearchCV(estimator=model, param_grid=param_grid, cv=5, scoring='accuracy', n_jobs=-1)\n",
    "grid.fit(X_train, y_train)\n",
    "\n",
    "print(\"Best Parameters:\", grid.best_params_)\n",
    "print(\"Best Score:\", grid.best_score_)"
   ]
  },
  {
   "cell_type": "code",
   "execution_count": null,
   "id": "d3e23f1f-66fa-467b-8af8-cd6669c8bad4",
   "metadata": {},
   "outputs": [],
   "source": []
  },
  {
   "cell_type": "markdown",
   "id": "44872bda-a02d-46ca-a864-983428507817",
   "metadata": {},
   "source": [
    "### shap values"
   ]
  },
  {
   "cell_type": "code",
   "execution_count": null,
   "id": "98c99ecb-4abe-40c5-8531-6b862745bd5b",
   "metadata": {},
   "outputs": [],
   "source": [
    "import shap\n",
    "model = xgb.XGBClassifier(eval_metric='logloss', use_label_encoder=False)\n",
    "model.fit(X_train, y_train)\n",
    "\n",
    "# SHAP Explainer\n",
    "explainer = shap.Explainer(model, X_train)\n",
    "shap_values = explainer(X_test)\n",
    "\n",
    "# Summary Plot (bar shows global feature importance)\n",
    "shap.plots.bar(shap_values, max_display=10)"
   ]
  },
  {
   "cell_type": "code",
   "execution_count": null,
   "id": "303b7b1d-6571-4265-b646-6d67398f983f",
   "metadata": {},
   "outputs": [],
   "source": [
    "# Models\n",
    "models = [dt_model,rf, ada, gb, XGB, lgbm, svm]  # your pre-trained models\n",
    "model_names = ['decision tree', 'random forest', 'Ada Boost', 'GradientBoost', 'XGBoost', 'Light GBM', 'Support Vector']\n",
    "\n",
    "\n",
    "# Number of features to select\n",
    "n_features_to_select = 30\n",
    "for model, name in zip(models, model_names):\n",
    "    # RFE Feature Selection\n",
    "    rfe = RFE(estimator=model, n_features_to_select=n_features_to_select)\n",
    "    rfe.fit(X_train, y_train)\n",
    "    selected_features = X_train.columns[rfe.support_]\n",
    "    print(f'{name}\\n',selected_features)"
   ]
  },
  {
   "cell_type": "code",
   "execution_count": null,
   "id": "d6dbe030-284c-4d7b-82c7-125d9a0eeaa1",
   "metadata": {},
   "outputs": [],
   "source": [
    "#Decision Tree on RFE features\n"
   ]
  },
  {
   "cell_type": "code",
   "execution_count": null,
   "id": "6079a6e6-e969-4871-98d5-c7e4221bfb1e",
   "metadata": {},
   "outputs": [],
   "source": [
    "selected_features=['Gender', 'Age', 'Sleep_duration', 'Sleep_quality', 'Stress_level',\n",
    "       'Heart_rate', 'Daily_steps', 'Physical_activity', 'Sleep_disorder',\n",
    "       'Wake_up_during_night', 'Feel_sleepy_during_day',\n",
    "       'Caffeine_consumption', 'Alcohol_consumption', 'Smoking',\n",
    "       'Medical_issue', 'Average_screen_time', 'Blue_light_filter',\n",
    "       'Discomfort_Eye_strain', 'Redness_in_eye',\n",
    "       'Itchiness_Irritation_in_eye', 'Systolic_BP', 'Diastolic_BP',\n",
    "       'Pulse_Pressure', 'BMI', 'BP_category_Hypertension Stage 1',\n",
    "       'BP_category_Hypertension Stage 2', 'BP_category_Normal',\n",
    "       'Sleep_category_Long', 'Sleep_category_Short',\n",
    "       'Screen_Time_Category_Low']"
   ]
  },
  {
   "cell_type": "code",
   "execution_count": null,
   "id": "79b36698-e773-4c3b-a82f-01e4d0362268",
   "metadata": {},
   "outputs": [],
   "source": [
    "X_train_sel=X_train[selected_features]\n",
    "X_test_sel=X_test[selected_features]"
   ]
  },
  {
   "cell_type": "code",
   "execution_count": null,
   "id": "4b3c4717-f230-4457-965e-2f4f3b35fb40",
   "metadata": {},
   "outputs": [],
   "source": [
    "dt_rfe = DecisionTreeClassifier()\n",
    "dt_rfe.fit(X_train_sel, y_train)\n",
    "train_pred=dt_rfe.predict(X_train_sel)\n",
    "y_pred = dt_rfe.predict(X_test_sel)\n",
    "y_pred_prob = dt_rfe.predict_proba(X_test_sel)[:, 1]"
   ]
  },
  {
   "cell_type": "code",
   "execution_count": null,
   "id": "463b1975-fc2e-4e46-b6a0-f84be72fafb7",
   "metadata": {},
   "outputs": [],
   "source": [
    "metrics(y_train,train_pred,'train metrics')"
   ]
  },
  {
   "cell_type": "code",
   "execution_count": null,
   "id": "66162ef8-62db-4868-9698-c8f07e4d4459",
   "metadata": {},
   "outputs": [],
   "source": [
    "metrics(y_test,y_pred,'test metrics')"
   ]
  },
  {
   "cell_type": "code",
   "execution_count": null,
   "id": "764b0a5d-9a20-43b7-aefd-cec92ac8e7ce",
   "metadata": {},
   "outputs": [],
   "source": [
    "param = {\n",
    "    'criterion': ['gini', 'entropy'],\n",
    "    'max_depth': [3, 5, 10, 15, 20, None],\n",
    "    'min_samples_split': [5, 10, 20, 50],\n",
    "    'min_samples_leaf': [2, 4, 10]\n",
    "}"
   ]
  },
  {
   "cell_type": "code",
   "execution_count": null,
   "id": "4b42e2da-e5f1-4c51-a6c4-9f0bb976aecb",
   "metadata": {},
   "outputs": [],
   "source": [
    "dt_serach=GridSearchCV(estimator=dt_rfe,param_grid=param,cv=5,n_jobs=-1,verbose=1)\n",
    "model=dt_serach.fit(X_train_sel,y_train)\n",
    "print(model.best_params_)"
   ]
  },
  {
   "cell_type": "code",
   "execution_count": null,
   "id": "71962582-c7d1-4e49-b5b3-36b241ed0401",
   "metadata": {},
   "outputs": [],
   "source": [
    "dt_rfe = DecisionTreeClassifier(criterion='entropy',min_samples_leaf=2,min_samples_split=2,max_depth=4,random_state=42)\n",
    "dt_rfe.fit(X_train_sel, y_train)\n",
    "y_pred = dt_rfe.predict(X_test_sel)\n",
    "metrics(y_test,y_pred,'dt rfe')"
   ]
  },
  {
   "cell_type": "code",
   "execution_count": null,
   "id": "528be53f-016f-4d48-9010-506be99a0706",
   "metadata": {},
   "outputs": [],
   "source": [
    "# Random Forest"
   ]
  },
  {
   "cell_type": "code",
   "execution_count": null,
   "id": "e7ee5baf-5f21-42f3-90fa-3b41952bba1f",
   "metadata": {},
   "outputs": [],
   "source": [
    "rf_model_rfe = RandomForestClassifier(random_state=42)\n",
    "rf_model_rfe.fit(X_train_sel, y_train)\n",
    "y_pred_rf = rf_model_rfe.predict(X_test_sel)\n",
    "y_pred_prob=rf_model_rfe.predict_proba(X_test_sel)[:,1]\n",
    "y_pred_cust = (y_pred_prob > 0.35).astype(int)\n",
    "metrics(y_test, y_pred, 'Random Forest')"
   ]
  },
  {
   "cell_type": "code",
   "execution_count": null,
   "id": "cd981775-86d7-40ac-bf6c-5ce82bbac943",
   "metadata": {},
   "outputs": [],
   "source": [
    "#ada boost\n",
    "ada=AdaBoostClassifier(random_state=42)\n",
    "ad_rfe=ada.fit(X_train_sel,y_train)\n",
    "y_pred=ad_rfe.predict(X_test_sel)"
   ]
  },
  {
   "cell_type": "code",
   "execution_count": null,
   "id": "f1f4f256-567f-48ae-a736-4eaef321aeb0",
   "metadata": {},
   "outputs": [],
   "source": [
    "metrics(y_test,y_pred,'adaboost rfe')"
   ]
  },
  {
   "cell_type": "code",
   "execution_count": null,
   "id": "b09a1bed-3185-48f5-9f48-6dd60ea3be61",
   "metadata": {},
   "outputs": [],
   "source": [
    "#Gradient boost"
   ]
  },
  {
   "cell_type": "code",
   "execution_count": null,
   "id": "7e757444-54d9-4040-9955-9f02a7d53260",
   "metadata": {},
   "outputs": [],
   "source": [
    "gb_rfe = GradientBoostingClassifier()\n",
    "gb_rfe.fit(X_train_sel, y_train)\n",
    "y_pred = gb_rfe.predict(X_test_sel)"
   ]
  },
  {
   "cell_type": "code",
   "execution_count": null,
   "id": "89747019-522f-4a6a-9468-215e795ad1e3",
   "metadata": {},
   "outputs": [],
   "source": [
    "metrics(y_test,y_pred,'gradient boost rfe')"
   ]
  },
  {
   "cell_type": "code",
   "execution_count": null,
   "id": "4665aa98-a4f9-453e-b824-b8140d489a1e",
   "metadata": {},
   "outputs": [],
   "source": [
    "# XGBoost"
   ]
  },
  {
   "cell_type": "code",
   "execution_count": null,
   "id": "3fcd1bc9-80f9-41a5-a26a-47d1129148cf",
   "metadata": {},
   "outputs": [],
   "source": [
    "XGB = XGBClassifier()\n",
    "xgb_rfe=XGB.fit(X_train_sel, y_train)\n",
    "y_pred = xgb_rfe.predict(X_test_sel)"
   ]
  },
  {
   "cell_type": "code",
   "execution_count": null,
   "id": "c4fe7e76-8b8a-4159-b2dc-57473b501589",
   "metadata": {},
   "outputs": [],
   "source": [
    "metrics(y_test,y_pred,'XGB rfe')"
   ]
  },
  {
   "cell_type": "code",
   "execution_count": null,
   "id": "1f871f28-6490-48b9-82c4-b3239cff46ee",
   "metadata": {},
   "outputs": [],
   "source": []
  },
  {
   "cell_type": "code",
   "execution_count": null,
   "id": "b2b252a3-5956-4248-9eb2-e4c598be5710",
   "metadata": {},
   "outputs": [],
   "source": []
  },
  {
   "cell_type": "code",
   "execution_count": null,
   "id": "e8c146ce-2019-406e-94fa-b19d88d4b3b7",
   "metadata": {},
   "outputs": [],
   "source": []
  },
  {
   "cell_type": "code",
   "execution_count": null,
   "id": "b8ff018e-e5a0-48bf-adb2-e9bfbf9b160a",
   "metadata": {},
   "outputs": [],
   "source": []
  },
  {
   "cell_type": "code",
   "execution_count": null,
   "id": "2db3195b-e1ff-41a7-af9b-ef504dca5f49",
   "metadata": {},
   "outputs": [],
   "source": []
  },
  {
   "cell_type": "code",
   "execution_count": null,
   "id": "525200af-5a41-482e-99de-24b78afc3c87",
   "metadata": {},
   "outputs": [],
   "source": []
  },
  {
   "cell_type": "code",
   "execution_count": null,
   "id": "e8a2b977-183a-44c2-99cb-dc1076a5795d",
   "metadata": {},
   "outputs": [],
   "source": [
    "metrics(y_test,y_pred,'shap xgb model')"
   ]
  },
  {
   "cell_type": "code",
   "execution_count": null,
   "id": "261e0d00-da96-4af4-b2b8-03f935b4078d",
   "metadata": {},
   "outputs": [],
   "source": [
    "lr=LogisticRegression()\n",
    "lr.fit(X_train,y_train)\n",
    "y_pred=lr.predict(X_test)\n",
    "y_pred_prob=lr.predict_proba(X_test)[:,1]\n",
    "y_pred_cust = (y_pred_prob >= 0.55).astype(int)"
   ]
  },
  {
   "cell_type": "code",
   "execution_count": null,
   "id": "19b2d7aa-8d35-49f5-b0d3-24fa6d70e4d2",
   "metadata": {},
   "outputs": [],
   "source": [
    "metrics(y_test,y_pred_cust,'l model')"
   ]
  },
  {
   "cell_type": "code",
   "execution_count": null,
   "id": "665b6fe4-d85b-4849-9ff5-41d151a945dc",
   "metadata": {},
   "outputs": [],
   "source": []
  },
  {
   "cell_type": "code",
   "execution_count": null,
   "id": "c67025fb-7d86-43bc-8326-3da120963032",
   "metadata": {},
   "outputs": [],
   "source": [
    "voting_clf = VotingClassifier(estimators=[\n",
    "    ('dt', dt_model),\n",
    "    ('rf', rf),\n",
    "    ('ada', ada),\n",
    "    ('gb',gb),\n",
    "    ('xgb', XGB),\n",
    "    ('lbgm',lgbm),\n",
    "], voting='soft')  # Use 'hard' for majority vote, 'soft' for probabilities\n",
    "\n",
    "# Fit VotingClassifier\n",
    "voting_clf.fit(X_train, y_train)\n",
    "\n",
    "# Predict\n",
    "y_pred_voting = voting_clf.predict(X_test)\n"
   ]
  },
  {
   "cell_type": "code",
   "execution_count": null,
   "id": "32217e4e-1041-474e-b47c-3db3e8dd8ab2",
   "metadata": {},
   "outputs": [],
   "source": [
    "metrics(y_test,y_pred_voting,'voting')"
   ]
  },
  {
   "cell_type": "code",
   "execution_count": null,
   "id": "9fc52412-653a-4ea1-b6be-b59a406ecb7c",
   "metadata": {},
   "outputs": [],
   "source": [
    "def metric(y_test, y_pred, model):\n",
    "    print(model)\n",
    "    acc = accuracy_score(y_test, y_pred)\n",
    "    prec = precision_score(y_test, y_pred)\n",
    "    rec = recall_score(y_test, y_pred)\n",
    "    f1 = f1_score(y_test, y_pred)\n",
    "    return acc, prec, rec, f1"
   ]
  },
  {
   "cell_type": "code",
   "execution_count": null,
   "id": "98762e82-1940-4c88-8475-437ea7ab8c52",
   "metadata": {},
   "outputs": [],
   "source": [
    "models = [\n",
    "    ('Logistic Regression', lr_model),\n",
    "    ('Decision Tree', dt_model),\n",
    "    ('Random Forest', rf),\n",
    "    ('Gradient Boosting', gb),\n",
    "    ('XGBoost', XGB),\n",
    "    ('LightGBM', lgbm),\n",
    "    ('AdaBoost', ada),\n",
    "    ('SVC', svm),\n",
    "    ('Voting Classifier', voting_clf)\n",
    "]\n",
    "results = []\n",
    "\n",
    "# Loop through models\n",
    "for name, model in models:\n",
    "    y_pred = model.predict(X_test)\n",
    "    acc, prec, rec, f1 = metric(y_test, y_pred, name)\n",
    "    \n",
    "    results.append({\n",
    "        'Model': name,\n",
    "        'Accuracy': acc,\n",
    "        'Precision': prec,\n",
    "        'Recall': rec,\n",
    "        'F1-Score': f1\n",
    "    })\n",
    "\n",
    "# Convert results to DataFrame\n",
    "df_results = pd.DataFrame(results)\n",
    "df_results"
   ]
  },
  {
   "cell_type": "code",
   "execution_count": null,
   "id": "61681e0f-2c7c-41f3-9121-794a78289123",
   "metadata": {},
   "outputs": [],
   "source": [
    "df_results"
   ]
  },
  {
   "cell_type": "code",
   "execution_count": null,
   "id": "777ebeb1-1486-4ce5-b03d-243baaca6140",
   "metadata": {},
   "outputs": [],
   "source": []
  }
 ],
 "metadata": {
  "kernelspec": {
   "display_name": "Python 3 (ipykernel)",
   "language": "python",
   "name": "python3"
  },
  "language_info": {
   "codemirror_mode": {
    "name": "ipython",
    "version": 3
   },
   "file_extension": ".py",
   "mimetype": "text/x-python",
   "name": "python",
   "nbconvert_exporter": "python",
   "pygments_lexer": "ipython3",
   "version": "3.12.6"
  }
 },
 "nbformat": 4,
 "nbformat_minor": 5
}
